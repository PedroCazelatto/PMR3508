{
 "cells": [
  {
   "attachments": {},
   "cell_type": "markdown",
   "metadata": {},
   "source": [
    "https://scikit-learn.org/stable/modules/ensemble.html#forests-of-randomized-trees\n",
    "\n",
    "https://scikit-learn.org/stable/modules/neural_networks_supervised.html#classification\n",
    "\n",
    "https://scikit-learn.org/stable/modules/lda_qda.html#dimensionality-reduction-using-linear-discriminant-analysis\n",
    "\n",
    "https://scikit-learn.org/stable/modules/linear_model.html#logistic-regression"
   ]
  },
  {
   "attachments": {},
   "cell_type": "markdown",
   "metadata": {},
   "source": [
    "# PMR3508 - Aprendizado de Máquina e Reconhecimento de Padrões (2022)\n",
    "\n",
    "Tarefa 2\n",
    "\n",
    "Autor: Pedro Henrique Galhardi Cazelatto\n",
    "\n",
    "## Bibliotecas\n",
    "\n",
    "Importando as bibliotecas necessárias para a execução do código."
   ]
  },
  {
   "cell_type": "code",
   "execution_count": 1,
   "metadata": {},
   "outputs": [],
   "source": [
    "import pandas as pd\n",
    "import matplotlib.pyplot as plt\n",
    "from sklearn.ensemble import RandomForestClassifier\n",
    "from sklearn.neighbors import KNeighborsClassifier\n",
    "from sklearn.linear_model import LogisticRegression\n",
    "from sklearn.neural_network import MLPClassifier\n",
    "from sklearn.discriminant_analysis import LinearDiscriminantAnalysis\n",
    "from sklearn.model_selection import cross_val_score\n",
    "from sklearn.model_selection import cross_validate"
   ]
  },
  {
   "cell_type": "markdown",
   "metadata": {},
   "source": [
    "## Dados\n",
    "\n",
    "Importando os dados necessários para o treino e teste."
   ]
  },
  {
   "cell_type": "code",
   "execution_count": 20,
   "metadata": {},
   "outputs": [],
   "source": [
    "trainData = pd.read_csv(\n",
    "    \"../input/adult-pmr3508/train_data.csv\",\n",
    "    na_values= '?',\n",
    "    index_col= ['Id'],\n",
    "    header= 0,\n",
    "    names= [\n",
    "        \"Id\",\n",
    "        \"Age\",\n",
    "        \"Workclass\",\n",
    "        \"Fnlwgt\",\n",
    "        \"Education\",\n",
    "        \"Education-num\",\n",
    "        \"Marital-status\",\n",
    "        \"Occupation\",\n",
    "        \"Relationship\",\n",
    "        \"Race\",\n",
    "        \"Sex\",\n",
    "        \"Capital-gain\",\n",
    "        \"Capital-loss\",\n",
    "        \"Hours-per-week\",\n",
    "        \"Native-country\",\n",
    "        \"Target\"\n",
    "    ]\n",
    ")\n",
    "\n",
    "testData = pd.read_csv(\n",
    "    \"../input/adult-pmr3508/test_data.csv\",\n",
    "    na_values= '?',\n",
    "    index_col= ['Id'],\n",
    "    header= 0,\n",
    "    names= [\n",
    "        \"Id\",\n",
    "        \"Age\",\n",
    "        \"Workclass\",\n",
    "        \"Fnlwgt\",\n",
    "        \"Education\",\n",
    "        \"Education-num\",\n",
    "        \"Marital-status\",\n",
    "        \"Occupation\",\n",
    "        \"Relationship\",\n",
    "        \"Race\",\n",
    "        \"Sex\",\n",
    "        \"Capital-gain\",\n",
    "        \"Capital-loss\",\n",
    "        \"Hours-per-week\",\n",
    "        \"Native-country\"\n",
    "    ]\n",
    ")"
   ]
  },
  {
   "attachments": {},
   "cell_type": "markdown",
   "metadata": {},
   "source": [
    "## Tratamento dos Dados\n",
    "\n",
    "Para efeitos de comparação com o kNN que fiz na primeira tarefa, usarei o mesmo tratamento de dados de lá.\n",
    "\n",
    "Isso significa:\n",
    "- Remover a coluna **Education**, e usar **Education-num**\n",
    "- Preencher dados faltantes em **Workclass** com categoria *Private* e transformá-la na binária *isPrivate*;\n",
    "- Apagar dados faltantes de **Occupation** e realizar One-Hot Encoding;\n",
    "- Converter **Native-country** para binário *isFromUS*, preenchendo dados faltantes com 0;\n",
    "- Realizar One-Hot Encoding para as colunas **Marital-status**, **Relationship** e **Race**;\n",
    "- Converter **Sex** para binário *isMale*;\n",
    "- Converter **Target** para binário (1 = \">50k\")"
   ]
  },
  {
   "cell_type": "code",
   "execution_count": 21,
   "metadata": {},
   "outputs": [],
   "source": [
    "trainData.drop(\"Education\", axis= 1, inplace= True)\n",
    "\n",
    "trainData[\"Workclass\"].fillna(\"Private\", inplace= True)\n",
    "trainData.loc[trainData[\"Workclass\"] != \"Private\", \"Workclass\"] = 0\n",
    "trainData.loc[trainData[\"Workclass\"] == \"Private\", \"Workclass\"] = 1\n",
    "trainData[\"Workclass\"] = trainData[\"Workclass\"].astype(float)\n",
    "trainData.rename(columns= {\"Workclass\": \"isPrivate\"}, inplace= True)\n",
    "\n",
    "trainData[\"Occupation\"].dropna(inplace= True)\n",
    "trainData = pd.concat([trainData, pd.get_dummies(trainData[\"Occupation\"], prefix= \"Occ\")], axis= 1)\n",
    "trainData.drop(\"Occupation\", axis= 1, inplace= True)\n",
    "\n",
    "trainData.loc[trainData[\"Native-country\"] != \"United-States\", \"Native-country\"] = 0\n",
    "trainData.loc[trainData[\"Native-country\"] == \"United-States\", \"Native-country\"] = 1\n",
    "trainData[\"Native-country\"] = trainData[\"Native-country\"].astype(float)\n",
    "trainData.rename(columns={\"Native-country\": \"isFromUS\"}, inplace= True)\n",
    "\n",
    "trainData = pd.concat([trainData, pd.get_dummies(trainData[\"Marital-status\"], prefix= \"Mar\")], axis= 1)\n",
    "trainData.drop(\"Marital-status\", axis= 1, inplace= True)\n",
    "\n",
    "trainData = pd.concat([trainData, pd.get_dummies(trainData[\"Relationship\"], prefix= \"Rel\")], axis= 1)\n",
    "trainData.drop(\"Relationship\", axis= 1, inplace= True)\n",
    "\n",
    "trainData = pd.concat([trainData, pd.get_dummies(trainData[\"Race\"], prefix= \"Race\")], axis= 1)\n",
    "trainData.drop(\"Race\", axis= 1, inplace= True)\n",
    "\n",
    "trainData.loc[trainData[\"Sex\"] != \"Male\", \"Sex\"] = 0.0\n",
    "trainData.loc[trainData[\"Sex\"] == \"Male\", \"Sex\"] = 1.0\n",
    "trainData[\"Sex\"] = trainData[\"Sex\"].astype(float)\n",
    "trainData.rename(columns={\"Sex\": \"isMale\"}, inplace= True)\n",
    "\n",
    "trainData.loc[trainData[\"Target\"] != \">50K\", \"Target\"] = 0\n",
    "trainData.loc[trainData[\"Target\"] == \">50K\", \"Target\"] = 1\n",
    "trainData[\"Target\"] = trainData[\"Target\"].astype(float)"
   ]
  },
  {
   "cell_type": "markdown",
   "metadata": {},
   "source": [
    "### Correlação entre os dados\n",
    "\n",
    "Calculo então a correlação absoluta entre os dados e a categoria **Target**, de modo a filtrar os dados relevantes."
   ]
  },
  {
   "cell_type": "code",
   "execution_count": 22,
   "metadata": {},
   "outputs": [
    {
     "data": {
      "text/plain": [
       "<AxesSubplot: >"
      ]
     },
     "execution_count": 22,
     "metadata": {},
     "output_type": "execute_result"
    },
    {
     "data": {
      "image/png": "[encoded data removed]",
      "text/plain": [
       "<Figure size 640x480 with 1 Axes>"
      ]
     },
     "metadata": {},
     "output_type": "display_data"
    }
   ],
   "source": [
    "correlation = trainData.corr()\n",
    "correlation.drop(\"Target\", axis = 0, inplace= True)\n",
    "correlation[\"Target\"].abs().sort_values().plot(kind= \"bar\", grid= True)"
   ]
  },
  {
   "attachments": {},
   "cell_type": "markdown",
   "metadata": {},
   "source": [
    "Para a comparação desta tarefa, usarei apenas os atributos com correlação absoluta maior que 0.1."
   ]
  },
  {
   "attachments": {},
   "cell_type": "markdown",
   "metadata": {},
   "source": [
    "## Definição de parâmetros"
   ]
  },
  {
   "attachments": {},
   "cell_type": "markdown",
   "metadata": {},
   "source": [
    "- Número de *folds* = 5\n",
    "- Correlação mínima = 0.1"
   ]
  },
  {
   "cell_type": "code",
   "execution_count": 5,
   "metadata": {},
   "outputs": [],
   "source": [
    "cvFolds = 5\n",
    "minCorr = 0.1\n",
    "scores = (\"accuracy\", \"f1\")"
   ]
  },
  {
   "cell_type": "code",
   "execution_count": 23,
   "metadata": {},
   "outputs": [],
   "source": [
    "toRemove = correlation[\"Target\"].where(correlation[\"Target\"].abs() <= minCorr).dropna().index\n",
    "trainY = trainData[\"Target\"]\n",
    "trainX = trainData.drop(\"Target\", axis= 1)\n",
    "trainX.drop(toRemove, axis= 1, inplace= True)"
   ]
  },
  {
   "attachments": {},
   "cell_type": "markdown",
   "metadata": {},
   "source": [
    "## Recriação do Classificador kNN"
   ]
  },
  {
   "attachments": {},
   "cell_type": "markdown",
   "metadata": {},
   "source": [
    "Apesar de já ter feito o classificador na tarefa passada, para efeitos da comparação recriarei o kNN usando o novo parâmetro de correlação mínima, para recalcular sua acurácia."
   ]
  },
  {
   "cell_type": "code",
   "execution_count": 7,
   "metadata": {},
   "outputs": [],
   "source": [
    "# bestScoreKNN = 0\n",
    "# for k in range(1, 31):\n",
    "#     knn = KNeighborsClassifier(n_neighbors= k, p= 1)\n",
    "#     valScore = cross_val_score(knn, trainX, trainY, cv= cvFolds)\n",
    "#     if valScore.mean() > bestScoreKNN:\n",
    "#         bestScoreKNN = valScore.mean()\n",
    "#         bestK = k\n",
    "# print(\"bestK = \" + str(bestK) + \" and bestScore = \" + str(bestScoreKNN))"
   ]
  },
  {
   "attachments": {},
   "cell_type": "markdown",
   "metadata": {},
   "source": [
    "O melhor K encontrado foi 25, com acurácia de 85.88%"
   ]
  },
  {
   "cell_type": "code",
   "execution_count": 8,
   "metadata": {},
   "outputs": [
    {
     "name": "stdout",
     "output_type": "stream",
     "text": [
      "0.8587837837837838\n",
      "0.6752342546328043\n"
     ]
    }
   ],
   "source": [
    "knn = KNeighborsClassifier(n_neighbors= 25, p= 1)\n",
    "knnScore = cross_validate(knn, trainX, trainY, cv= cvFolds, scoring= scores)\n",
    "print(knnScore[\"test_accuracy\"].mean())\n",
    "print(knnScore[\"test_f1\"].mean())"
   ]
  },
  {
   "attachments": {},
   "cell_type": "markdown",
   "metadata": {},
   "source": [
    "## 1) Regressão Logística"
   ]
  },
  {
   "cell_type": "code",
   "execution_count": 9,
   "metadata": {},
   "outputs": [
    {
     "name": "stdout",
     "output_type": "stream",
     "text": [
      "0.8466216216216216\n",
      "0.6429219948065814\n"
     ]
    }
   ],
   "source": [
    "logit = LogisticRegression(penalty= \"l1\", solver= \"liblinear\", max_iter= 1000)\n",
    "logitScore = cross_validate(logit, trainX, trainY, cv= cvFolds, scoring= scores)\n",
    "print(logitScore[\"test_accuracy\"].mean())\n",
    "print(logitScore[\"test_f1\"].mean())"
   ]
  },
  {
   "attachments": {},
   "cell_type": "markdown",
   "metadata": {},
   "source": [
    "## 2) LDA"
   ]
  },
  {
   "cell_type": "code",
   "execution_count": 10,
   "metadata": {},
   "outputs": [
    {
     "name": "stdout",
     "output_type": "stream",
     "text": [
      "0.8351965601965603\n",
      "0.6137010654158616\n"
     ]
    }
   ],
   "source": [
    "lda = LinearDiscriminantAnalysis(solver= \"eigen\")\n",
    "ldaScore = cross_validate(lda, trainX, trainY, cv= cvFolds, scoring= scores)\n",
    "print(ldaScore[\"test_accuracy\"].mean())\n",
    "print(ldaScore[\"test_f1\"].mean())"
   ]
  },
  {
   "attachments": {},
   "cell_type": "markdown",
   "metadata": {},
   "source": [
    "## 3) Random Forests"
   ]
  },
  {
   "attachments": {},
   "cell_type": "markdown",
   "metadata": {},
   "source": [
    "Para uma floresta aleatória, é necessário definir a quantidade de árvores e o tamanho máximo delas.\n",
    "\n",
    "Primeiro estimo o tamanho máximo usando uma floresta bem grande, de modo que provavelmente todas as *features* serão utilizadas, e me darão uma boa estimativa da profundidade ideal.\n",
    "\n",
    "Depois, procuro o melhor número de árvores da floresta com a profundidade escolhida."
   ]
  },
  {
   "cell_type": "code",
   "execution_count": 11,
   "metadata": {},
   "outputs": [
    {
     "name": "stdout",
     "output_type": "stream",
     "text": [
      "\n",
      "bestD = 13 and bestScore = 0.8625307125307125\n"
     ]
    }
   ],
   "source": [
    "bestScoreRF = 0\n",
    "for depth in range(3, 20, 2):\n",
    "    rndForest = RandomForestClassifier(n_estimators= 300, max_depth= depth)\n",
    "    rndForestScore = cross_val_score(rndForest, trainX, trainY, cv= cvFolds)\n",
    "    if rndForestScore.mean() > bestScoreRF:\n",
    "        bestScoreRF = rndForestScore.mean()\n",
    "        bestDepth = depth\n",
    "print(\"\\nbestD = \" + str(bestDepth) + \" and bestScore = \" + str(bestScoreRF))"
   ]
  },
  {
   "cell_type": "code",
   "execution_count": 12,
   "metadata": {},
   "outputs": [
    {
     "name": "stdout",
     "output_type": "stream",
     "text": [
      "\n",
      "bestN = 62 and bestScore = 0.8627149877149878\n"
     ]
    }
   ],
   "source": [
    "bestScoreRF = 0\n",
    "for nTree in range(10, 101):\n",
    "    rndForest = RandomForestClassifier(n_estimators= nTree, max_depth= bestDepth)\n",
    "    rndForestScore = cross_val_score(rndForest, trainX, trainY, cv= cvFolds)\n",
    "    if rndForestScore.mean() > bestScoreRF:\n",
    "        bestScoreRF = rndForestScore.mean()\n",
    "        bestNTree = nTree\n",
    "print(\"\\nbestN = \" + str(bestNTree) + \" and bestScore = \" + str(bestScoreRF))"
   ]
  },
  {
   "cell_type": "code",
   "execution_count": 13,
   "metadata": {},
   "outputs": [
    {
     "name": "stdout",
     "output_type": "stream",
     "text": [
      "0.8618550368550368\n",
      "0.6706722463066004\n"
     ]
    }
   ],
   "source": [
    "rndForest = RandomForestClassifier(n_estimators= bestNTree, max_depth= bestDepth)\n",
    "rndForestScore = cross_validate(rndForest, trainX, trainY, cv= cvFolds, scoring= scores)\n",
    "print(rndForestScore[\"test_accuracy\"].mean())\n",
    "print(rndForestScore[\"test_f1\"].mean())"
   ]
  },
  {
   "attachments": {},
   "cell_type": "markdown",
   "metadata": {},
   "source": [
    "## 4) Rede Neural"
   ]
  },
  {
   "attachments": {},
   "cell_type": "markdown",
   "metadata": {},
   "source": [
    "Para a rede neural, defini usar apenas uma camada escondida, pois é mais rápido de treinar e possui acurácia suficiente. Com validação cruzada escolho a melhor quantidade de *perceptrons* da camada."
   ]
  },
  {
   "cell_type": "code",
   "execution_count": 14,
   "metadata": {},
   "outputs": [
    {
     "name": "stdout",
     "output_type": "stream",
     "text": [
      "\n",
      "bestN = 29 and bestScore = 0.8444103194103194\n"
     ]
    }
   ],
   "source": [
    "bestScoreMLP = 0\n",
    "for neurons in range(5, 50):\n",
    "    mlp = MLPClassifier(hidden_layer_sizes= (neurons))\n",
    "    mlpScore = cross_val_score(mlp, trainX, trainY, cv= cvFolds)\n",
    "    if mlpScore.mean() > bestScoreMLP:\n",
    "        bestScoreMLP = mlpScore.mean()\n",
    "        bestNeurons = neurons\n",
    "print(\"\\nbestN = \" + str(bestNeurons) + \" and bestScore = \" + str(bestScoreMLP))"
   ]
  },
  {
   "cell_type": "code",
   "execution_count": 15,
   "metadata": {},
   "outputs": [
    {
     "name": "stdout",
     "output_type": "stream",
     "text": [
      "0.8361486486486486\n",
      "0.6170321016948669\n"
     ]
    }
   ],
   "source": [
    "mlp = MLPClassifier(hidden_layer_sizes= (bestNeurons))\n",
    "mlpScore = cross_validate(mlp, trainX, trainY, cv= cvFolds, scoring= scores)\n",
    "print(mlpScore[\"test_accuracy\"].mean())\n",
    "print(mlpScore[\"test_f1\"].mean())"
   ]
  },
  {
   "attachments": {},
   "cell_type": "markdown",
   "metadata": {},
   "source": [
    "# Comparando os Classificadores"
   ]
  },
  {
   "attachments": {},
   "cell_type": "markdown",
   "metadata": {},
   "source": [
    "Na execução em minha máquina, encontrei os seguintes valores de acurácia e F1:"
   ]
  },
  {
   "attachments": {},
   "cell_type": "markdown",
   "metadata": {},
   "source": [
    "| Classificador | Acurácia | F1-score |\n",
    "| --- | --- | --- |\n",
    "| 0) kNN | 85.88% | 67.52% |\n",
    "| 1) Reg Logística | 84.66% | 64.30% |\n",
    "| 2) LDA | 83.52% | 61.37% |\n",
    "| 3) Rnd Forest | 86.19% | 67.07% |\n",
    "| 4) Rede Neural | 83.88 | 59.20% |"
   ]
  },
  {
   "attachments": {},
   "cell_type": "markdown",
   "metadata": {},
   "source": [
    "Com tais valores, posso considerar a floresta aleatória como melhor entre os novos classificadores. Em comparação com o kNN, sua acurácia foi um pouco melhor, mas teve o valor F1 reduzido. "
   ]
  },
  {
   "attachments": {},
   "cell_type": "markdown",
   "metadata": {},
   "source": [
    "# Classificador Final"
   ]
  },
  {
   "attachments": {},
   "cell_type": "markdown",
   "metadata": {},
   "source": [
    "Para o classificador final de teste, usarei a floresta aleatória com os parâmetros encontrados.\n",
    "\n",
    "Primeiro, é necessário preparar os dados de teste como fiz com os de treino."
   ]
  },
  {
   "cell_type": "code",
   "execution_count": 24,
   "metadata": {},
   "outputs": [],
   "source": [
    "testData.drop(\"Education\", axis= 1, inplace= True)\n",
    "\n",
    "testData[\"Workclass\"].fillna(\"Private\", inplace= True)\n",
    "testData.loc[testData[\"Workclass\"] != \"Private\", \"Workclass\"] = 0\n",
    "testData.loc[testData[\"Workclass\"] == \"Private\", \"Workclass\"] = 1\n",
    "testData[\"Workclass\"] = testData[\"Workclass\"].astype(float)\n",
    "testData.rename(columns= {\"Workclass\": \"isPrivate\"}, inplace= True)\n",
    "\n",
    "testData[\"Occupation\"].dropna(inplace= True)\n",
    "testData = pd.concat([testData, pd.get_dummies(testData[\"Occupation\"], prefix= \"Occ\")], axis= 1)\n",
    "testData.drop(\"Occupation\", axis= 1, inplace= True)\n",
    "\n",
    "testData.loc[testData[\"Native-country\"] != \"United-States\", \"Native-country\"] = 0\n",
    "testData.loc[testData[\"Native-country\"] == \"United-States\", \"Native-country\"] = 1\n",
    "testData[\"Native-country\"] = testData[\"Native-country\"].astype(float)\n",
    "testData.rename(columns= {\"Native-country\": \"isFromUS\"}, inplace= True)\n",
    "\n",
    "testData = pd.concat([testData, pd.get_dummies(testData[\"Marital-status\"], prefix= \"Mar\")], axis= 1)\n",
    "testData.drop(\"Marital-status\", axis= 1, inplace= True)\n",
    "\n",
    "testData = pd.concat([testData, pd.get_dummies(testData[\"Relationship\"], prefix= \"Rel\")], axis= 1)\n",
    "testData.drop(\"Relationship\", axis= 1, inplace= True)\n",
    "\n",
    "testData = pd.concat([testData, pd.get_dummies(testData[\"Race\"], prefix= \"Race\")], axis= 1)\n",
    "testData.drop(\"Race\", axis= 1, inplace= True)\n",
    "\n",
    "testData.loc[testData[\"Sex\"] != \"Male\", \"Sex\"] = 0\n",
    "testData.loc[testData[\"Sex\"] == \"Male\", \"Sex\"] = 1\n",
    "testData[\"Sex\"] = testData[\"Sex\"].astype(float)\n",
    "testData.rename(columns= {\"Sex\": \"isMale\"}, inplace= True)\n",
    "\n",
    "testData.drop(toRemove, axis= 1, inplace= True)"
   ]
  },
  {
   "attachments": {},
   "cell_type": "markdown",
   "metadata": {},
   "source": [
    "Agora, basta montar o classificador."
   ]
  },
  {
   "cell_type": "code",
   "execution_count": 25,
   "metadata": {},
   "outputs": [
    {
     "data": {
      "text/html": [
       "<style>#sk-container-id-2 {color: black;background-color: white;}#sk-container-id-2 pre{padding: 0;}#sk-container-id-2 div.sk-toggleable {background-color: white;}#sk-container-id-2 label.sk-toggleable__label {cursor: pointer;display: block;width: 100%;margin-bottom: 0;padding: 0.3em;box-sizing: border-box;text-align: center;}#sk-container-id-2 label.sk-toggleable__label-arrow:before {content: \"▸\";float: left;margin-right: 0.25em;color: #696969;}#sk-container-id-2 label.sk-toggleable__label-arrow:hover:before {color: black;}#sk-container-id-2 div.sk-estimator:hover label.sk-toggleable__label-arrow:before {color: black;}#sk-container-id-2 div.sk-toggleable__content {max-height: 0;max-width: 0;overflow: hidden;text-align: left;background-color: #f0f8ff;}#sk-container-id-2 div.sk-toggleable__content pre {margin: 0.2em;color: black;border-radius: 0.25em;background-color: #f0f8ff;}#sk-container-id-2 input.sk-toggleable__control:checked~div.sk-toggleable__content {max-height: 200px;max-width: 100%;overflow: auto;}#sk-container-id-2 input.sk-toggleable__control:checked~label.sk-toggleable__label-arrow:before {content: \"▾\";}#sk-container-id-2 div.sk-estimator input.sk-toggleable__control:checked~label.sk-toggleable__label {background-color: #d4ebff;}#sk-container-id-2 div.sk-label input.sk-toggleable__control:checked~label.sk-toggleable__label {background-color: #d4ebff;}#sk-container-id-2 input.sk-hidden--visually {border: 0;clip: rect(1px 1px 1px 1px);clip: rect(1px, 1px, 1px, 1px);height: 1px;margin: -1px;overflow: hidden;padding: 0;position: absolute;width: 1px;}#sk-container-id-2 div.sk-estimator {font-family: monospace;background-color: #f0f8ff;border: 1px dotted black;border-radius: 0.25em;box-sizing: border-box;margin-bottom: 0.5em;}#sk-container-id-2 div.sk-estimator:hover {background-color: #d4ebff;}#sk-container-id-2 div.sk-parallel-item::after {content: \"\";width: 100%;border-bottom: 1px solid gray;flex-grow: 1;}#sk-container-id-2 div.sk-label:hover label.sk-toggleable__label {background-color: #d4ebff;}#sk-container-id-2 div.sk-serial::before {content: \"\";position: absolute;border-left: 1px solid gray;box-sizing: border-box;top: 0;bottom: 0;left: 50%;z-index: 0;}#sk-container-id-2 div.sk-serial {display: flex;flex-direction: column;align-items: center;background-color: white;padding-right: 0.2em;padding-left: 0.2em;position: relative;}#sk-container-id-2 div.sk-item {position: relative;z-index: 1;}#sk-container-id-2 div.sk-parallel {display: flex;align-items: stretch;justify-content: center;background-color: white;position: relative;}#sk-container-id-2 div.sk-item::before, #sk-container-id-2 div.sk-parallel-item::before {content: \"\";position: absolute;border-left: 1px solid gray;box-sizing: border-box;top: 0;bottom: 0;left: 50%;z-index: -1;}#sk-container-id-2 div.sk-parallel-item {display: flex;flex-direction: column;z-index: 1;position: relative;background-color: white;}#sk-container-id-2 div.sk-parallel-item:first-child::after {align-self: flex-end;width: 50%;}#sk-container-id-2 div.sk-parallel-item:last-child::after {align-self: flex-start;width: 50%;}#sk-container-id-2 div.sk-parallel-item:only-child::after {width: 0;}#sk-container-id-2 div.sk-dashed-wrapped {border: 1px dashed gray;margin: 0 0.4em 0.5em 0.4em;box-sizing: border-box;padding-bottom: 0.4em;background-color: white;}#sk-container-id-2 div.sk-label label {font-family: monospace;font-weight: bold;display: inline-block;line-height: 1.2em;}#sk-container-id-2 div.sk-label-container {text-align: center;}#sk-container-id-2 div.sk-container {/* jupyter's `normalize.less` sets `[hidden] { display: none; }` but bootstrap.min.css set `[hidden] { display: none !important; }` so we also need the `!important` here to be able to override the default hidden behavior on the sphinx rendered scikit-learn.org. See: https://github.com/scikit-learn/scikit-learn/issues/21755 */display: inline-block !important;position: relative;}#sk-container-id-2 div.sk-text-repr-fallback {display: none;}</style><div id=\"sk-container-id-2\" class=\"sk-top-container\"><div class=\"sk-text-repr-fallback\"><pre>RandomForestClassifier(max_depth=13, n_estimators=62)</pre><b>In a Jupyter environment, please rerun this cell to show the HTML representation or trust the notebook. <br />On GitHub, the HTML representation is unable to render, please try loading this page with nbviewer.org.</b></div><div class=\"sk-container\" hidden><div class=\"sk-item\"><div class=\"sk-estimator sk-toggleable\"><input class=\"sk-toggleable__control sk-hidden--visually\" id=\"sk-estimator-id-2\" type=\"checkbox\" checked><label for=\"sk-estimator-id-2\" class=\"sk-toggleable__label sk-toggleable__label-arrow\">RandomForestClassifier</label><div class=\"sk-toggleable__content\"><pre>RandomForestClassifier(max_depth=13, n_estimators=62)</pre></div></div></div></div></div>"
      ],
      "text/plain": [
       "RandomForestClassifier(max_depth=13, n_estimators=62)"
      ]
     },
     "execution_count": 25,
     "metadata": {},
     "output_type": "execute_result"
    }
   ],
   "source": [
    "classFinal = RandomForestClassifier(n_estimators= bestNTree, max_depth= bestDepth)\n",
    "classFinal.fit(trainX, trainY)"
   ]
  },
  {
   "cell_type": "code",
   "execution_count": 26,
   "metadata": {},
   "outputs": [],
   "source": [
    "guess = classFinal.predict(testData)\n",
    "submission = pd.DataFrame()\n",
    "submission[0] = testData.index\n",
    "submission[1] = guess\n",
    "submission.columns = [\"Id\", \"income\"]\n",
    "submission.loc[submission[\"income\"] == 0, \"income\"] = \"<=50K\"\n",
    "submission.loc[submission[\"income\"] == 1, \"income\"] = \">50K\"\n",
    "submission.to_csv(\"submission.csv\", index= False)"
   ]
  }
 ],
 "metadata": {
  "kernelspec": {
   "display_name": "Python 3.10.3 64-bit",
   "language": "python",
   "name": "python3"
  },
  "language_info": {
   "codemirror_mode": {
    "name": "ipython",
    "version": 3
   },
   "file_extension": ".py",
   "mimetype": "text/x-python",
   "name": "python",
   "nbconvert_exporter": "python",
   "pygments_lexer": "ipython3",
   "version": "3.10.3"
  },
  "orig_nbformat": 4,
  "vscode": {
   "interpreter": {
    "hash": "c3503f95e0e8f4afdf6702396a7a2a29cae9f67572acfe092405dcaa2579b817"
   }
  }
 },
 "nbformat": 4,
 "nbformat_minor": 2
}
